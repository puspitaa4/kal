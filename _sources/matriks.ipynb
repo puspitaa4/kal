{
  "cells": [
    {
      "cell_type": "markdown",
      "metadata": {
        "id": "dQtNwmoHq46r"
      },
      "source": [
        "# **Matriks**\n",
        "## **Pengertian Matriks**\n",
        "\n",
        "Matriks adalah angka-angka yang disusun sedemikian sehingga menyerupai persegipanjang berdasarkan urutan baris dan kolom. Angka-angka yang menyusun matriks disebut sebagai unsur atau elemen. Umumnya, matriks berada di dalam tanda kurung dan dinyatakan sebagai huruf kapital. Sementara itu, unsur atau elemen dinyatakan sebagai huruf kecil serta memiliki indeks. Indeks tersebut menyatakan letak baris dan kolom unsur. Baris adalah susunan angka yang arahnya horizontal atau mendatar. Sementara kolom adalah susunan angka yang arahnya vertikal.\n",
        "\n",
        "\n",
        "## **Sifat-Sifat Matriks**\n",
        "Sifat-sifat matriks berlaku pada saat matriks dioperasikan dengan matriks lain.\n",
        "\n",
        "### **Sifat penjumlahan matriks**\n",
        "\n",
        "Penjumlahan hanya berlaku pada matriks yang memiliki ordo sama. Jika ordo antarmatriksnya berbeda, maka tidak bisa dilakukan penjumlahan. Misalnya, penjumlahan antarmatriks ordo 2 × 2, antarmatriks 3 × 3, dan seterusnya. Penjumlahan ini memenuhi sifat-sifat berikut.\n",
        "\n",
        "- Sifat komutatif, yaitu sifat yang memenuhi A + B = B + A.\n",
        "\n",
        "- Sifat asosiatif, yaitu sifat yang memenuhi (A + B) + C = A + (B + C).\n",
        "\n",
        "- Sifat matriks nol, yaitu sifat yang memenuhi A + 0 = A.\n",
        "\n",
        "\n",
        "### **Sifat pengurangan matriks**\n",
        "Sama seperti penjumlahan, pengurangan hanya berlaku untuk matriks berordo sama. Namun, sifat-sifat penjumlahan tidak berlaku pada pengurangan, kecuali sifat pengurangan dengan matriks nol, yaitu A – 0 = A.\n",
        "\n",
        "### **Sifat perkalian matriks**\n",
        "Perkalian antara dua matriks bisa dilakukan jika jumlah kolom matriks pertama sama dengan jumlah baris matriks kedua. Misalnya matriks ordo 2 x 3 bisa dikalikan dengan ordo 3 x 2, matriks ordo 3 x 1 bisa dikalikan ordo 1 x 3, dan seterusnya. Ingat, ketentuan ini tidak bisa dibalik, ya. Pada perkalian matriks berlaku sifat-sifat berikut.\n",
        "\n",
        "- Sifat asosiatif, yaitu (A × B) × C = A × (B × C).\n",
        "\n",
        "- Sifat distributif, yaitu A × (B + C) = (A × B) + (A × C).\n",
        "\n",
        "- Perkalian dengan matriks nol akan menghasilkan matriks nol, yaitu A × 0 = 0.\n",
        "Cara Menghitung Matriks\n",
        "\n"
      ]
    },
    {
      "cell_type": "markdown",
      "metadata": {
        "id": "rziHrqQms-4P"
      },
      "source": [
        "### **Cara Menghitung Matriks**\n",
        "#### **Cara menghitung hasil penjumlahan matriks**\n",
        "Hasil penjumlahan matriks diperoleh dengan menjumlahkan elemen-elemen yang seletak. Misalnya elemen pada baris ke-1 dan kolom ke-1 dijumlahkan dengan elemen yang sama. contohnya berikut."
      ]
    },
    {
      "cell_type": "code",
      "execution_count": 1,
      "metadata": {
        "colab": {
          "base_uri": "https://localhost:8080/"
        },
        "id": "ZjA4mCvspbfr",
        "outputId": "a43269f8-d4c8-4436-bccd-0d3c42ca0c82"
      },
      "outputs": [
        {
          "name": "stdout",
          "output_type": "stream",
          "text": [
            "Penjumlahan Matriks:\n",
            "Matrix([[2, 4, 5]])  +  Matrix([[-3, 4, 8]])  =  Matrix([[-1, 8, 13]])\n",
            "Matrix([[1, 8, 7]])  +  Matrix([[2, -4, 6]])  =  Matrix([[3, 4, 13]])\n",
            "Matrix([[3, 0, 6]])  +  Matrix([[5, 7, 0]])  =  Matrix([[8, 7, 6]])\n"
          ]
        }
      ],
      "source": [
        "import sympy as sy\n",
        "\n",
        "# Definisi matriks dengan SymPy\n",
        "a_sy = sy.Matrix([[2, 4, 5], [1, 8, 7], [3, 0, 6]])\n",
        "b_sy = sy.Matrix([[-3, 4, 8], [2, -4, 6], [5, 7, 0]])\n",
        "\n",
        "# Penjumlahan matriks dengan SymPy\n",
        "sum_sympy = a_sy + b_sy\n",
        "\n",
        "print(\"Penjumlahan Matriks:\")\n",
        "\n",
        "def display_side_by_side(m1, m2, result):\n",
        "    rows = len(m1.tolist())\n",
        "    for i in range(rows):\n",
        "        print(m1.row(i), \" + \", m2.row(i), \" = \", result.row(i))\n",
        "\n",
        "display_side_by_side(a_sy, b_sy, sum_sympy)"
      ]
    },
    {
      "cell_type": "markdown",
      "metadata": {
        "id": "xunnffIAtSpS"
      },
      "source": [
        "#### **Cara menghitung hasil pengurangan matriks**\n",
        "Cara menghitung hasil pengurangan matriks sama dengan penjumlahan, yaitu mengurangkan elemen yang seletak. Perhatikan contoh berikut."
      ]
    },
    {
      "cell_type": "code",
      "execution_count": 2,
      "metadata": {
        "colab": {
          "base_uri": "https://localhost:8080/"
        },
        "id": "r6EBsZkapuHO",
        "outputId": "e54f8736-4096-4794-d89a-76e0f3c2a37d"
      },
      "outputs": [
        {
          "name": "stdout",
          "output_type": "stream",
          "text": [
            "Pengurangan Matriks:\n",
            "Matrix([[2, 4, 5]])  -  Matrix([[-3, 4, 8]])  =  Matrix([[5, 0, -3]])\n",
            "Matrix([[1, 8, 7]])  -  Matrix([[2, -4, 6]])  =  Matrix([[-1, 12, 1]])\n",
            "Matrix([[3, 0, 6]])  -  Matrix([[5, 7, 0]])  =  Matrix([[-2, -7, 6]])\n"
          ]
        }
      ],
      "source": [
        "import sympy as sy\n",
        "\n",
        "# Definisi matriks dengan SymPy\n",
        "a_sy = sy.Matrix([[2, 4, 5], [1, 8, 7], [3, 0, 6]])\n",
        "b_sy = sy.Matrix([[-3, 4, 8], [2, -4, 6], [5, 7, 0]])\n",
        "\n",
        "# Pengurangan matriks dengan SymPy\n",
        "diff_sympy = a_sy - b_sy\n",
        "\n",
        "print(\"Pengurangan Matriks:\")\n",
        "\n",
        "def display_side_by_side(m1, m2, result):\n",
        "    rows = len(m1.tolist())\n",
        "    for i in range(rows):\n",
        "        print(m1.row(i), \" - \", m2.row(i), \" = \", result.row(i))\n",
        "\n",
        "display_side_by_side(a_sy, b_sy, diff_sympy)"
      ]
    },
    {
      "cell_type": "markdown",
      "metadata": {
        "id": "4xDudKg3td9E"
      },
      "source": [
        "#### **Cara menghitung hasil perkalian matriks**\n",
        "Cara menghitung perkalian antara dua matriks adalah dengan mengalikan semua elemen baris matriks pertama dengan semua elemen kolom di matriks kedua secara berurutan.\n",
        "\n",
        "**Operasi perkalian pada matriks terbagi menjadi dua jenis utama:**\n",
        "\n",
        "**Perkalian Matriks dengan Skalar (Bilangan Real)**\n",
        "\n",
        "**Perkalian Matriks dengan Matriks**\n",
        "\n",
        "Perkalian Matriks dengan Matriks\n",
        "Perkalian ini dilakukan antara dua matriks yang memenuhi syarat bahwa jumlah kolom pada matriks pertama sama dengan jumlah baris pada matriks kedua.\n",
        "\n",
        "Syarat Perkalian Matriks\n",
        "Misalkan:\n",
        "\n",
        "- Matriks A memiliki ordo\n",
        "𝑚\n",
        "×\n",
        "𝑛\n",
        "m×n.\n",
        "\n",
        "- Matriks B memiliki ordo\n",
        "𝑛\n",
        "×\n",
        "𝑝\n",
        "n×p.\n",
        "\n",
        "Maka, hasil perkalian A×B akan menghasilkan matriks baru C yang berordo\n",
        "𝑚\n",
        "×\n",
        "𝑝\n",
        "m×p.\n",
        "\n",
        "Rumus Perkalian Matriks\n",
        "Elemen matriks hasil perkalian 𝐶 = 𝐴 × 𝐵 diperoleh dengan rumus:\n",
        "\n"
      ]
    },
    {
      "cell_type": "code",
      "execution_count": 6,
      "metadata": {
        "colab": {
          "base_uri": "https://localhost:8080/",
          "height": 67
        },
        "id": "oaAKBBFQyZyV",
        "outputId": "840628a3-bac1-4df8-dbc6-565efb33bd92"
      },
      "outputs": [
        {
          "data": {
            "text/latex": [
              "$\\displaystyle {C}_{i,j} = \\sum_{k=1}^{n} {A}_{i,k} {B}_{k,j}$"
            ],
            "text/plain": [
              "<IPython.core.display.Math object>"
            ]
          },
          "metadata": {},
          "output_type": "display_data"
        }
      ],
      "source": [
        "from sympy import symbols, Sum, IndexedBase, Eq\n",
        "from sympy.abc import i, j, k, n\n",
        "\n",
        "# Definisi elemen matriks\n",
        "A = IndexedBase('A')\n",
        "B = IndexedBase('B')\n",
        "C = IndexedBase('C')\n",
        "\n",
        "# Menulis rumus perkalian matriks\n",
        "rumus = Eq(C[i, j], Sum(A[i, k] * B[k, j], (k, 1, n)))\n",
        "\n",
        "# Menampilkan dalam format LaTeX\n",
        "from sympy import latex\n",
        "from IPython.display import display, Math\n",
        "\n",
        "display(Math(latex(rumus)))\n"
      ]
    },
    {
      "cell_type": "markdown",
      "metadata": {
        "id": "FIvDnDZuykqW"
      },
      "source": [
        "Artinya, setiap elemen\n",
        "𝑐\n",
        "𝑖\n",
        "𝑗\n",
        "dalam matriks hasil diperoleh dengan menjumlahkan hasil perkalian elemen-elemen baris ke-i dari matriks 𝐴 dengan elemen-elemen kolom ke-j dari matriks 𝐵\n",
        "\n",
        "\n"
      ]
    },
    {
      "cell_type": "code",
      "execution_count": 3,
      "metadata": {
        "colab": {
          "base_uri": "https://localhost:8080/"
        },
        "id": "d4xAwxjWpy6u",
        "outputId": "c5a5a487-7abf-48a8-99ec-fd90e64e044b"
      },
      "outputs": [
        {
          "name": "stdout",
          "output_type": "stream",
          "text": [
            "Perkalian Matriks dengan Matriks:\n",
            "Matrix([[2, 4, 5]])  *  Matrix([[-3, 4, 8], [2, -4, 6], [5, 7, 0]])  =  Matrix([[27, 27, 40]])\n",
            "Matrix([[1, 8, 7]])  *  Matrix([[-3, 4, 8], [2, -4, 6], [5, 7, 0]])  =  Matrix([[48, 21, 56]])\n",
            "Matrix([[3, 0, 6]])  *  Matrix([[-3, 4, 8], [2, -4, 6], [5, 7, 0]])  =  Matrix([[21, 54, 24]])\n"
          ]
        }
      ],
      "source": [
        "import sympy as sy\n",
        "\n",
        "# Definisi matriks dengan SymPy\n",
        "a_sy = sy.Matrix([[2, 4, 5], [1, 8, 7], [3, 0, 6]])\n",
        "b_sy = sy.Matrix([[-3, 4, 8], [2, -4, 6], [5, 7, 0]])\n",
        "\n",
        "# Perkalian matriks dengan SymPy\n",
        "prod_sympy = a_sy * b_sy\n",
        "\n",
        "print(\"Perkalian Matriks dengan Matriks:\")\n",
        "\n",
        "def display_side_by_side(m1, m2, result):\n",
        "    rows = len(m1.tolist())\n",
        "    for i in range(rows):\n",
        "        print(m1.row(i), \" * \", m2, \" = \", result.row(i))\n",
        "\n",
        "display_side_by_side(a_sy, b_sy, prod_sympy)"
      ]
    },
    {
      "cell_type": "markdown",
      "metadata": {
        "id": "0C2WPXEku71T"
      },
      "source": [
        "**Perkalian Matriks dengan Skalar**\n",
        "\n",
        "Perkalian ini dilakukan dengan mengalikan setiap elemen dalam matriks dengan suatu bilangan real (skalar).\n",
        "\n",
        "Rumus:\n",
        "Jika terdapat matriks A berordo 𝑚 × 𝑛  dengan elemen 𝑎 𝑖 𝑗, dan suatu skalar k, maka: (𝑘𝐴)𝑖𝑗 =k⋅ aij\n",
        "​\n",
        "Artinya, setiap elemen dalam matriks dikalikan dengan k."
      ]
    },
    {
      "cell_type": "code",
      "execution_count": 4,
      "metadata": {
        "colab": {
          "base_uri": "https://localhost:8080/"
        },
        "id": "mFvNDlQap2yk",
        "outputId": "83dc47a5-b0f8-45db-9094-e1b591a1bd36"
      },
      "outputs": [
        {
          "name": "stdout",
          "output_type": "stream",
          "text": [
            "Perkalian Matriks dengan Skalar:\n",
            "3 * Matrix([[2, 4, 5]]) = Matrix([[6, 12, 15]])\n",
            "3 * Matrix([[1, 8, 7]]) = Matrix([[3, 24, 21]])\n",
            "3 * Matrix([[3, 0, 6]]) = Matrix([[9, 0, 18]])\n"
          ]
        }
      ],
      "source": [
        "import sympy as sy\n",
        "\n",
        "# Definisi matriks dengan SymPy\n",
        "a_sy = sy.Matrix([[2, 4, 5], [1, 8, 7], [3, 0, 6]])\n",
        "\n",
        "# Definisi skalar\n",
        "scalar = 3\n",
        "\n",
        "# Perkalian matriks dengan skalar\n",
        "prod_sympy = scalar * a_sy\n",
        "\n",
        "print(\"Perkalian Matriks dengan Skalar:\")\n",
        "\n",
        "def display_scalar_multiplication(scalar, matrix, result):\n",
        "    rows = len(matrix.tolist())\n",
        "    for i in range(rows):\n",
        "        print(f\"{scalar} * {matrix.row(i)} = {result.row(i)}\")\n",
        "\n",
        "display_scalar_multiplication(scalar, a_sy, prod_sympy)"
      ]
    },
    {
      "cell_type": "markdown",
      "metadata": {},
      "source": [
        "### **Penyelesaian persamaan menggunakan invers matrik**\n",
        "\n",
        "Kita diberikan sistem persamaan linear:\n",
        "\n",
        "$\n",
        "\\begin{aligned}\n",
        "    -7x_1 - 6x_2 - 12x_3 &= -33 \\\\\n",
        "    5x_1 + 5x_2 + 7x_3 &= 24 \\\\\n",
        "    x_1 + 4x_3 &= 5\n",
        "\\end{aligned}\n",
        "$\n",
        "\n",
        "#### **1. Bentuk Matriks**\n",
        "Sistem persamaan di atas dapat dituliskan dalam bentuk matriks:\n",
        "\n",
        "$\n",
        "A \\mathbf{x} = \\mathbf{b}\n",
        "$\n",
        "\n",
        "dengan:\n",
        "\n",
        "$\n",
        "A =\n",
        "\\begin{bmatrix}\n",
        "-7 & -6 & -12 \\\\\n",
        "5 & 5 & 7 \\\\\n",
        "1 & 0 & 4\n",
        "\\end{bmatrix},\n",
        "\\quad\n",
        "\\mathbf{x} =\n",
        "\\begin{bmatrix}\n",
        "x_1 \\\\ x_2 \\\\ x_3\n",
        "\\end{bmatrix},\n",
        "\\quad\n",
        "\\mathbf{b} =\n",
        "\\begin{bmatrix}\n",
        "-33 \\\\ 24 \\\\ 5\n",
        "\\end{bmatrix}\n",
        "$\n",
        "\n",
        "Penyelesaian sistem menggunakan invers matriks diberikan oleh:\n",
        "\n",
        "$\n",
        "\\mathbf{x} = A^{-1} \\mathbf{b}\n",
        "$\n",
        "\n",
        "Kita akan mencari $ A^{-1} $ menggunakan operasi baris elementer.\n",
        "\n",
        "---\n",
        "\n",
        "#### **2. Menentukan $ A^{-1} $ Menggunakan Operasi Baris Elementer**\n",
        "Kita mulai dengan matriks augmented:\n",
        "\n",
        "$\n",
        "\\left[ A \\,|\\, I \\right] =\n",
        "\\left[\n",
        "\\begin{array}{ccc|ccc}\n",
        "-7 & -6 & -12 & 1 & 0 & 0 \\\\\n",
        "5 & 5 & 7 & 0 & 1 & 0 \\\\\n",
        "1 & 0 & 4 & 0 & 0 & 1\n",
        "\\end{array}\n",
        "\\right]\n",
        "$\n",
        "\n",
        "**Langkah 1: Ubah elemen (1,1) menjadi 1**\n",
        "Kita bagi baris pertama dengan $ -7 $:\n",
        "\n",
        "$\n",
        "\\left[\n",
        "\\begin{array}{ccc|ccc}\n",
        "1 & \\frac{6}{7} & \\frac{12}{7} & -\\frac{1}{7} & 0 & 0 \\\\\n",
        "5 & 5 & 7 & 0 & 1 & 0 \\\\\n",
        "1 & 0 & 4 & 0 & 0 & 1\n",
        "\\end{array}\n",
        "\\right]\n",
        "$\n",
        "\n",
        "**Langkah 2: Nulifikasi elemen (2,1) dan (3,1)**  \n",
        "Baris kedua: $ R_2 \\leftarrow R_2 - 5R_1 $  \n",
        "Baris ketiga: $ R_3 \\leftarrow R_3 - R_1 $\n",
        "\n",
        "$\n",
        "\\left[\n",
        "\\begin{array}{ccc|ccc}\n",
        "1 & \\frac{6}{7} & \\frac{12}{7} & -\\frac{1}{7} & 0 & 0 \\\\\n",
        "0 & \\frac{5}{7} & \\frac{1}{7} & \\frac{5}{7} & 1 & 0 \\\\\n",
        "0 & -\\frac{6}{7} & \\frac{16}{7} & \\frac{1}{7} & 0 & 1\n",
        "\\end{array}\n",
        "\\right]\n",
        "$\n",
        "\n",
        "**Langkah 3: Ubah elemen (2,2) menjadi 1**  \n",
        "Kita kalikan baris kedua dengan $ \\frac{7}{5} $:\n",
        "\n",
        "$\n",
        "\\left[\n",
        "\\begin{array}{ccc|ccc}\n",
        "1 & \\frac{6}{7} & \\frac{12}{7} & -\\frac{1}{7} & 0 & 0 \\\\\n",
        "0 & 1 & \\frac{1}{5} & \\frac{1}{5} & \\frac{7}{5} & 0 \\\\\n",
        "0 & -\\frac{6}{7} & \\frac{16}{7} & \\frac{1}{7} & 0 & 1\n",
        "\\end{array}\n",
        "\\right]\n",
        "$\n",
        "\n",
        "**Langkah 4: Nulifikasi elemen (1,2) dan (3,2)**  \n",
        "Baris pertama: $ R_1 \\leftarrow R_1 - \\frac{6}{7} R_2 $  \n",
        "Baris ketiga: $ R_3 \\leftarrow R_3 + \\frac{6}{7} R_2 $\n",
        "\n",
        "$\n",
        "\\left[\n",
        "\\begin{array}{ccc|ccc}\n",
        "1 & 0 & \\frac{10}{7} & -\\frac{5}{21} & -\\frac{6}{5} & 0 \\\\\n",
        "0 & 1 & \\frac{1}{5} & \\frac{1}{5} & \\frac{7}{5} & 0 \\\\\n",
        "0 & 0 & \\frac{22}{7} & \\frac{11}{35} & \\frac{42}{35} & 1\n",
        "\\end{array}\n",
        "\\right]\n",
        "$\n",
        "\n",
        "**Langkah 5: Ubah elemen (3,3) menjadi 1**  \n",
        "Kita kalikan baris ketiga dengan $ \\frac{7}{22} $:\n",
        "\n",
        "$\n",
        "\\left[\n",
        "\\begin{array}{ccc|ccc}\n",
        "1 & 0 & \\frac{10}{7} & -\\frac{5}{21} & -\\frac{6}{5} & 0 \\\\\n",
        "0 & 1 & \\frac{1}{5} & \\frac{1}{5} & \\frac{7}{5} & 0 \\\\\n",
        "0 & 0 & 1 & \\frac{1}{10} & \\frac{21}{22} & \\frac{7}{22}\n",
        "\\end{array}\n",
        "\\right]\n",
        "$\n",
        "\n",
        "**Langkah 6: Nulifikasi elemen (1,3) dan (2,3)**  \n",
        "Baris pertama: $ R_1 \\leftarrow R_1 - \\frac{10}{7} R_3 $  \n",
        "Baris kedua: $ R_2 \\leftarrow R_2 - \\frac{1}{5} R_3 $\n",
        "\n",
        "$\n",
        "\\left[\n",
        "\\begin{array}{ccc|ccc}\n",
        "1 & 0 & 0 & -\\frac{8}{21} & -\\frac{9}{5} & -\\frac{10}{22} \\\\\n",
        "0 & 1 & 0 & \\frac{1}{5} - \\frac{1}{50} & \\frac{7}{5} - \\frac{21}{110} & -\\frac{7}{110} \\\\\n",
        "0 & 0 & 1 & \\frac{1}{10} & \\frac{21}{22} & \\frac{7}{22}\n",
        "\\end{array}\n",
        "\\right]\n",
        "$\n",
        "\n",
        "Setelah disederhanakan, kita dapatkan invers matriks $ A^{-1} $:\n",
        "\n",
        "$\n",
        "A^{-1} =\n",
        "\\begin{bmatrix}\n",
        "-\\frac{8}{21} & -\\frac{9}{5} & -\\frac{5}{11} \\\\\n",
        "\\frac{2}{7} & \\frac{37}{35} & -\\frac{7}{55} \\\\\n",
        "\\frac{1}{10} & \\frac{21}{22} & \\frac{7}{22}\n",
        "\\end{bmatrix}\n",
        "$\n",
        "\n",
        "---\n",
        "\n",
        "#### **3. Menghitung $ \\mathbf{x} = A^{-1} \\mathbf{b} $**\n",
        "\n",
        "$\n",
        "\\mathbf{x} =\n",
        "\\begin{bmatrix}\n",
        "-\\frac{8}{21} & -\\frac{9}{5} & -\\frac{5}{11} \\\\\n",
        "\\frac{2}{7} & \\frac{37}{35} & -\\frac{7}{55} \\\\\n",
        "\\frac{1}{10} & \\frac{21}{22} & \\frac{7}{22}\n",
        "\\end{bmatrix}\n",
        "\\begin{bmatrix}\n",
        "-33 \\\\ 24 \\\\ 5\n",
        "\\end{bmatrix}\n",
        "$\n",
        "\n",
        "Setelah dihitung, diperoleh:\n",
        "\n",
        "$\n",
        "\\mathbf{x} =\n",
        "\\begin{bmatrix}\n",
        "1 \\\\ 2 \\\\ 1\n",
        "\\end{bmatrix}\n",
        "$\n",
        "\n",
        "Jadi, solusi dari sistem persamaan adalah:\n",
        "\n",
        "$\n",
        "x_1 = 1, \\quad x_2 = 2, \\quad x_3 = 1\n",
        "$"
      ]
    }
  ],
  "metadata": {
    "colab": {
      "provenance": []
    },
    "kernelspec": {
      "display_name": "Python 3",
      "name": "python3"
    },
    "language_info": {
      "name": "python"
    }
  },
  "nbformat": 4,
  "nbformat_minor": 0
}
