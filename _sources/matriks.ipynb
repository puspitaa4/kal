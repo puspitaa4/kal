{
  "nbformat": 4,
  "nbformat_minor": 0,
  "metadata": {
    "colab": {
      "provenance": []
    },
    "kernelspec": {
      "name": "python3",
      "display_name": "Python 3"
    },
    "language_info": {
      "name": "python"
    }
  },
  "cells": [
    {
      "cell_type": "markdown",
      "source": [
        "## **Pengertian Matriks**\n",
        "\n",
        "Matriks adalah angka-angka yang disusun sedemikian sehingga menyerupai persegipanjang berdasarkan urutan baris dan kolom. Angka-angka yang menyusun matriks disebut sebagai unsur atau elemen. Umumnya, matriks berada di dalam tanda kurung dan dinyatakan sebagai huruf kapital. Sementara itu, unsur atau elemen dinyatakan sebagai huruf kecil serta memiliki indeks. Indeks tersebut menyatakan letak baris dan kolom unsur. Baris adalah susunan angka yang arahnya horizontal atau mendatar. Sementara kolom adalah susunan angka yang arahnya vertikal.\n",
        "\n",
        "\n",
        "## **Sifat-Sifat Matriks**\n",
        "Sifat-sifat matriks berlaku pada saat matriks dioperasikan dengan matriks lain.\n",
        "\n",
        "#### **Sifat penjumlahan matriks**\n",
        "\n",
        "Penjumlahan hanya berlaku pada matriks yang memiliki ordo sama. Jika ordo antarmatriksnya berbeda, maka tidak bisa dilakukan penjumlahan. Misalnya, penjumlahan antarmatriks ordo 2 × 2, antarmatriks 3 × 3, dan seterusnya. Penjumlahan ini memenuhi sifat-sifat berikut.\n",
        "\n",
        "- Sifat komutatif, yaitu sifat yang memenuhi A + B = B + A.\n",
        "\n",
        "- Sifat asosiatif, yaitu sifat yang memenuhi (A + B) + C = A + (B + C).\n",
        "\n",
        "- Sifat matriks nol, yaitu sifat yang memenuhi A + 0 = A.\n",
        "\n",
        "\n",
        "#### **Sifat pengurangan matriks**\n",
        "Sama seperti penjumlahan, pengurangan hanya berlaku untuk matriks berordo sama. Namun, sifat-sifat penjumlahan tidak berlaku pada pengurangan, kecuali sifat pengurangan dengan matriks nol, yaitu A – 0 = A.\n",
        "\n",
        "#### **Sifat perkalian matriks**\n",
        "Perkalian antara dua matriks bisa dilakukan jika jumlah kolom matriks pertama sama dengan jumlah baris matriks kedua. Misalnya matriks ordo 2 x 3 bisa dikalikan dengan ordo 3 x 2, matriks ordo 3 x 1 bisa dikalikan ordo 1 x 3, dan seterusnya. Ingat, ketentuan ini tidak bisa dibalik, ya. Pada perkalian matriks berlaku sifat-sifat berikut.\n",
        "\n",
        "- Sifat asosiatif, yaitu (A × B) × C = A × (B × C).\n",
        "\n",
        "- Sifat distributif, yaitu A × (B + C) = (A × B) + (A × C).\n",
        "\n",
        "- Perkalian dengan matriks nol akan menghasilkan matriks nol, yaitu A × 0 = 0.\n",
        "Cara Menghitung Matriks\n",
        "\n"
      ],
      "metadata": {
        "id": "dQtNwmoHq46r"
      }
    },
    {
      "cell_type": "markdown",
      "source": [
        "## **Cara Menghitung Matriks**\n",
        "#### **Cara menghitung hasil penjumlahan matriks**\n",
        "Hasil penjumlahan matriks diperoleh dengan menjumlahkan elemen-elemen yang seletak. Misalnya elemen pada baris ke-1 dan kolom ke-1 dijumlahkan dengan elemen yang sama. contohnya berikut."
      ],
      "metadata": {
        "id": "rziHrqQms-4P"
      }
    },
    {
      "cell_type": "code",
      "execution_count": 1,
      "metadata": {
        "colab": {
          "base_uri": "https://localhost:8080/"
        },
        "id": "ZjA4mCvspbfr",
        "outputId": "a43269f8-d4c8-4436-bccd-0d3c42ca0c82"
      },
      "outputs": [
        {
          "output_type": "stream",
          "name": "stdout",
          "text": [
            "Penjumlahan Matriks:\n",
            "Matrix([[2, 4, 5]])  +  Matrix([[-3, 4, 8]])  =  Matrix([[-1, 8, 13]])\n",
            "Matrix([[1, 8, 7]])  +  Matrix([[2, -4, 6]])  =  Matrix([[3, 4, 13]])\n",
            "Matrix([[3, 0, 6]])  +  Matrix([[5, 7, 0]])  =  Matrix([[8, 7, 6]])\n"
          ]
        }
      ],
      "source": [
        "import sympy as sy\n",
        "\n",
        "# Definisi matriks dengan SymPy\n",
        "a_sy = sy.Matrix([[2, 4, 5], [1, 8, 7], [3, 0, 6]])\n",
        "b_sy = sy.Matrix([[-3, 4, 8], [2, -4, 6], [5, 7, 0]])\n",
        "\n",
        "# Penjumlahan matriks dengan SymPy\n",
        "sum_sympy = a_sy + b_sy\n",
        "\n",
        "print(\"Penjumlahan Matriks:\")\n",
        "\n",
        "def display_side_by_side(m1, m2, result):\n",
        "    rows = len(m1.tolist())\n",
        "    for i in range(rows):\n",
        "        print(m1.row(i), \" + \", m2.row(i), \" = \", result.row(i))\n",
        "\n",
        "display_side_by_side(a_sy, b_sy, sum_sympy)"
      ]
    },
    {
      "cell_type": "markdown",
      "source": [
        "#### **Cara menghitung hasil pengurangan matriks**\n",
        "Cara menghitung hasil pengurangan matriks sama dengan penjumlahan, yaitu mengurangkan elemen yang seletak. Perhatikan contoh berikut."
      ],
      "metadata": {
        "id": "xunnffIAtSpS"
      }
    },
    {
      "cell_type": "code",
      "source": [
        "import sympy as sy\n",
        "\n",
        "# Definisi matriks dengan SymPy\n",
        "a_sy = sy.Matrix([[2, 4, 5], [1, 8, 7], [3, 0, 6]])\n",
        "b_sy = sy.Matrix([[-3, 4, 8], [2, -4, 6], [5, 7, 0]])\n",
        "\n",
        "# Pengurangan matriks dengan SymPy\n",
        "diff_sympy = a_sy - b_sy\n",
        "\n",
        "print(\"Pengurangan Matriks:\")\n",
        "\n",
        "def display_side_by_side(m1, m2, result):\n",
        "    rows = len(m1.tolist())\n",
        "    for i in range(rows):\n",
        "        print(m1.row(i), \" - \", m2.row(i), \" = \", result.row(i))\n",
        "\n",
        "display_side_by_side(a_sy, b_sy, diff_sympy)"
      ],
      "metadata": {
        "colab": {
          "base_uri": "https://localhost:8080/"
        },
        "id": "r6EBsZkapuHO",
        "outputId": "e54f8736-4096-4794-d89a-76e0f3c2a37d"
      },
      "execution_count": 2,
      "outputs": [
        {
          "output_type": "stream",
          "name": "stdout",
          "text": [
            "Pengurangan Matriks:\n",
            "Matrix([[2, 4, 5]])  -  Matrix([[-3, 4, 8]])  =  Matrix([[5, 0, -3]])\n",
            "Matrix([[1, 8, 7]])  -  Matrix([[2, -4, 6]])  =  Matrix([[-1, 12, 1]])\n",
            "Matrix([[3, 0, 6]])  -  Matrix([[5, 7, 0]])  =  Matrix([[-2, -7, 6]])\n"
          ]
        }
      ]
    },
    {
      "cell_type": "markdown",
      "source": [
        "#### **Cara menghitung hasil perkalian matriks**\n",
        "Cara menghitung perkalian antara dua matriks adalah dengan mengalikan semua elemen baris matriks pertama dengan semua elemen kolom di matriks kedua secara berurutan.\n",
        "\n",
        "**Operasi perkalian pada matriks terbagi menjadi dua jenis utama:**\n",
        "\n",
        "**Perkalian Matriks dengan Skalar (Bilangan Real)**\n",
        "\n",
        "**Perkalian Matriks dengan Matriks**\n",
        "\n",
        "Perkalian Matriks dengan Matriks\n",
        "Perkalian ini dilakukan antara dua matriks yang memenuhi syarat bahwa jumlah kolom pada matriks pertama sama dengan jumlah baris pada matriks kedua.\n",
        "\n",
        "Syarat Perkalian Matriks\n",
        "Misalkan:\n",
        "\n",
        "- Matriks A memiliki ordo\n",
        "𝑚\n",
        "×\n",
        "𝑛\n",
        "m×n.\n",
        "\n",
        "- Matriks B memiliki ordo\n",
        "𝑛\n",
        "×\n",
        "𝑝\n",
        "n×p.\n",
        "\n",
        "Maka, hasil perkalian A×B akan menghasilkan matriks baru C yang berordo\n",
        "𝑚\n",
        "×\n",
        "𝑝\n",
        "m×p.\n",
        "\n",
        "Rumus Perkalian Matriks\n",
        "Elemen matriks hasil perkalian 𝐶 = 𝐴 × 𝐵 diperoleh dengan rumus:\n",
        "\n",
        ""
      ],
      "metadata": {
        "id": "4xDudKg3td9E"
      }
    },
    {
      "cell_type": "code",
      "source": [
        "from sympy import symbols, Sum, IndexedBase, Eq\n",
        "from sympy.abc import i, j, k, n\n",
        "\n",
        "# Definisi elemen matriks\n",
        "A = IndexedBase('A')\n",
        "B = IndexedBase('B')\n",
        "C = IndexedBase('C')\n",
        "\n",
        "# Menulis rumus perkalian matriks\n",
        "rumus = Eq(C[i, j], Sum(A[i, k] * B[k, j], (k, 1, n)))\n",
        "\n",
        "# Menampilkan dalam format LaTeX\n",
        "from sympy import latex\n",
        "from IPython.display import display, Math\n",
        "\n",
        "display(Math(latex(rumus)))\n"
      ],
      "metadata": {
        "colab": {
          "base_uri": "https://localhost:8080/",
          "height": 67
        },
        "id": "oaAKBBFQyZyV",
        "outputId": "840628a3-bac1-4df8-dbc6-565efb33bd92"
      },
      "execution_count": 6,
      "outputs": [
        {
          "output_type": "display_data",
          "data": {
            "text/plain": [
              "<IPython.core.display.Math object>"
            ],
            "text/latex": "$\\displaystyle {C}_{i,j} = \\sum_{k=1}^{n} {A}_{i,k} {B}_{k,j}$"
          },
          "metadata": {}
        }
      ]
    },
    {
      "cell_type": "markdown",
      "source": [
        "Artinya, setiap elemen\n",
        "𝑐\n",
        "𝑖\n",
        "𝑗\n",
        "dalam matriks hasil diperoleh dengan menjumlahkan hasil perkalian elemen-elemen baris ke-i dari matriks 𝐴 dengan elemen-elemen kolom ke-j dari matriks 𝐵\n",
        "\n",
        "\n"
      ],
      "metadata": {
        "id": "FIvDnDZuykqW"
      }
    },
    {
      "cell_type": "code",
      "source": [
        "import sympy as sy\n",
        "\n",
        "# Definisi matriks dengan SymPy\n",
        "a_sy = sy.Matrix([[2, 4, 5], [1, 8, 7], [3, 0, 6]])\n",
        "b_sy = sy.Matrix([[-3, 4, 8], [2, -4, 6], [5, 7, 0]])\n",
        "\n",
        "# Perkalian matriks dengan SymPy\n",
        "prod_sympy = a_sy * b_sy\n",
        "\n",
        "print(\"Perkalian Matriks dengan Matriks:\")\n",
        "\n",
        "def display_side_by_side(m1, m2, result):\n",
        "    rows = len(m1.tolist())\n",
        "    for i in range(rows):\n",
        "        print(m1.row(i), \" * \", m2, \" = \", result.row(i))\n",
        "\n",
        "display_side_by_side(a_sy, b_sy, prod_sympy)"
      ],
      "metadata": {
        "colab": {
          "base_uri": "https://localhost:8080/"
        },
        "id": "d4xAwxjWpy6u",
        "outputId": "c5a5a487-7abf-48a8-99ec-fd90e64e044b"
      },
      "execution_count": 3,
      "outputs": [
        {
          "output_type": "stream",
          "name": "stdout",
          "text": [
            "Perkalian Matriks dengan Matriks:\n",
            "Matrix([[2, 4, 5]])  *  Matrix([[-3, 4, 8], [2, -4, 6], [5, 7, 0]])  =  Matrix([[27, 27, 40]])\n",
            "Matrix([[1, 8, 7]])  *  Matrix([[-3, 4, 8], [2, -4, 6], [5, 7, 0]])  =  Matrix([[48, 21, 56]])\n",
            "Matrix([[3, 0, 6]])  *  Matrix([[-3, 4, 8], [2, -4, 6], [5, 7, 0]])  =  Matrix([[21, 54, 24]])\n"
          ]
        }
      ]
    },
    {
      "cell_type": "markdown",
      "source": [
        "**Perkalian Matriks dengan Skalar**\n",
        "\n",
        "Perkalian ini dilakukan dengan mengalikan setiap elemen dalam matriks dengan suatu bilangan real (skalar).\n",
        "\n",
        "Rumus:\n",
        "Jika terdapat matriks A berordo 𝑚 × 𝑛  dengan elemen 𝑎 𝑖 𝑗, dan suatu skalar k, maka: (𝑘𝐴)𝑖𝑗 =k⋅ aij\n",
        "​\n",
        "Artinya, setiap elemen dalam matriks dikalikan dengan k."
      ],
      "metadata": {
        "id": "0C2WPXEku71T"
      }
    },
    {
      "cell_type": "code",
      "source": [
        "import sympy as sy\n",
        "\n",
        "# Definisi matriks dengan SymPy\n",
        "a_sy = sy.Matrix([[2, 4, 5], [1, 8, 7], [3, 0, 6]])\n",
        "\n",
        "# Definisi skalar\n",
        "scalar = 3\n",
        "\n",
        "# Perkalian matriks dengan skalar\n",
        "prod_sympy = scalar * a_sy\n",
        "\n",
        "print(\"Perkalian Matriks dengan Skalar:\")\n",
        "\n",
        "def display_scalar_multiplication(scalar, matrix, result):\n",
        "    rows = len(matrix.tolist())\n",
        "    for i in range(rows):\n",
        "        print(f\"{scalar} * {matrix.row(i)} = {result.row(i)}\")\n",
        "\n",
        "display_scalar_multiplication(scalar, a_sy, prod_sympy)"
      ],
      "metadata": {
        "colab": {
          "base_uri": "https://localhost:8080/"
        },
        "id": "mFvNDlQap2yk",
        "outputId": "83dc47a5-b0f8-45db-9094-e1b591a1bd36"
      },
      "execution_count": 4,
      "outputs": [
        {
          "output_type": "stream",
          "name": "stdout",
          "text": [
            "Perkalian Matriks dengan Skalar:\n",
            "3 * Matrix([[2, 4, 5]]) = Matrix([[6, 12, 15]])\n",
            "3 * Matrix([[1, 8, 7]]) = Matrix([[3, 24, 21]])\n",
            "3 * Matrix([[3, 0, 6]]) = Matrix([[9, 0, 18]])\n"
          ]
        }
      ]
    }
  ]
}